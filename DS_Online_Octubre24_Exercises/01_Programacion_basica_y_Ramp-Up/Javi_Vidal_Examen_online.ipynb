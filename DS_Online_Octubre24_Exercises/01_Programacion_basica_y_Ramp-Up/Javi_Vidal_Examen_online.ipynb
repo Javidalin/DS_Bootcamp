{
 "cells": [
  {
   "cell_type": "markdown",
   "id": "1f1401c1-4dc9-4902-95bf-160715a42a25",
   "metadata": {},
   "source": [
    "# Prueba de Ramp-up"
   ]
  },
  {
   "cell_type": "markdown",
   "id": "1b34c670-a6dd-482d-9b04-5babee7be17a",
   "metadata": {},
   "source": [
    "Antes de comenzar, cambia el nombre del archivo notebook poniéndole delante tu nombre y primer apellido:\n",
    "\n",
    "* ``<nombre_apellido>_examen_online.ipynb``"
   ]
  },
  {
   "cell_type": "code",
   "execution_count": 65,
   "id": "c8d9a657-272c-425a-9ac4-ea59f479673c",
   "metadata": {},
   "outputs": [],
   "source": [
    "# Escribe tu nombre en la variable:\n",
    "nombre_y_apellidos = \"Javier Vidal Molina\"\n"
   ]
  },
  {
   "cell_type": "code",
   "execution_count": 66,
   "id": "2e9f9af5-076c-44ec-9a80-95c0e99cdc58",
   "metadata": {},
   "outputs": [],
   "source": [
    "\"\"\"\n",
    "Criterios de corrección:\n",
    "\n",
    "ejecución (ausencia de errores y obtención de resultados)\n",
    "estructura del código\n",
    "uso correcto de variables\n",
    "manejo de tipo de variables\n",
    "asignaciones\n",
    "operaciones booleanas\n",
    "manejo lógico de flujos de control y bucles\n",
    "uso de colecciones\n",
    "uso de funciones\n",
    "\"\"\";\n",
    "\n",
    "# Ejemplo de como queremos ver el código para más de un intento:\n",
    "\n",
    "# intento 1\n",
    "#your code\n",
    "\n",
    "# intento 2\n",
    "#your code"
   ]
  },
  {
   "cell_type": "code",
   "execution_count": 67,
   "id": "bb16d0e3-3bb9-4f2b-944e-8fc35e628701",
   "metadata": {},
   "outputs": [],
   "source": [
    "# crea todas las celdas que necesites"
   ]
  },
  {
   "cell_type": "markdown",
   "id": "9e02b8f5-6f66-4e73-acfa-7f8c3977de2a",
   "metadata": {},
   "source": [
    "#### Notas y pruebas de apoyo para contestar las preguntas\n",
    "\n",
    "\n",
    "Cualquier código aunque no esté correcto nos dirá más de ti que no escribir nada. "
   ]
  },
  {
   "cell_type": "markdown",
   "id": "57d6b062-27f8-4377-b583-d662777b0bd7",
   "metadata": {},
   "source": [
    "__Debes subir este notebook a tu REPO PERSONAL__\n",
    "\n",
    "__Hora: hasta las 13:30 del 06/11/2024__"
   ]
  },
  {
   "cell_type": "markdown",
   "id": "062d81e8",
   "metadata": {},
   "source": [
    "#### Ejercicio 1\n",
    "\n",
    "Disponemos de una lista con información sobre varios empleados:\n",
    "\n",
    "    empleados = \n",
    "    [[12345, \"Juan Rodríguez\", 53, [\"Director financiero\"], 2],[56789, \"Laura Pérez\", 41, [\"CEO\", \"Director\", \"Gerente\"], 2],[88354, \"Pedro Álvarez\", 26, [\"Asistente\",\"Gestor comercial\"], 3]]\n",
    "\n",
    "Respecto de cada empleado, la lista contiene cinco elementos: en el primero almacenamos su tfno, en el segundo su nombre, en el tercero su edad, en el cuarto los puestos que ha desempeñado en la empresa (en forma de lista) y en el quinto su código postal.\n",
    "\n",
    "1. Siguiendo la misma estructura, incluye un nuevo empleado en la última posición de la lista empleados.\n",
    "\n",
    "2. Mostrar por pantalla, sin uso de funciones (salvo print) ni bucles: \n",
    "\n",
    "    - El nombre y la edad del tercer empleado de la lista empleados.\n",
    "    - Los puestos desempeñados por Pedro Álvarez, ordenados de atras a adelante (es decir, de Gestor comercial a Asistente)\n",
    "    - Si el nuevo empleado que has añadido tiene más o igual a 60 años, muestra por pantalla los puestos que el nuevo empleado haya desempeñado en la empresa. En caso contrario, muestra los puestos desempeñados por Laura Pérez y Juan Rodriguez."
   ]
  },
  {
   "cell_type": "code",
   "execution_count": 68,
   "id": "ae316b4b",
   "metadata": {},
   "outputs": [
    {
     "name": "stdout",
     "output_type": "stream",
     "text": [
      "Nombre: Pedro Álvarez | Edad: 26\n",
      "['Gestor comercial', 'Asistente']\n",
      "Los puestos desempeñados por Laura Pérez son ['CEO', 'Director', 'Gerente'], y los de Juan Rodríguez son ['Director financiero']\n"
     ]
    }
   ],
   "source": [
    "#1.\n",
    "empleados= [\n",
    "    [12345, \"Juan Rodríguez\", 53, [\"Director financiero\"], 2],\n",
    "    [56789, \"Laura Pérez\", 41, [\"CEO\", \"Director\", \"Gerente\"], 2],\n",
    "    [88354, \"Pedro Álvarez\", 26, [\"Asistente\",\"Gestor comercial\"], 3]\n",
    "    ]\n",
    "\n",
    "empleados.append([34769, \"Javier Vidal\", 35, [\"Increible Data Scientist\"], 12200])\n",
    "empleados\n",
    "\n",
    "#2.1\n",
    "print(\"Nombre:\", empleados[2][1], \"| Edad:\", empleados[2][2])\n",
    "\n",
    "#2.2\n",
    "print(empleados[2][3][::-1])\n",
    "\n",
    "#2.3\n",
    "if empleados[3][2] >=60:\n",
    "    print(empleados[3][3])\n",
    "else:\n",
    "    print(f\"Los puestos desempeñados por Laura Pérez son {empleados[1][3]}, y los de Juan Rodríguez son {empleados[0][3]}\")\n",
    "\n"
   ]
  },
  {
   "cell_type": "markdown",
   "id": "4da89624-0da3-4f91-aa5c-a084c5ee1b17",
   "metadata": {},
   "source": [
    "#### Ejercicio 2. \n",
    "\n",
    "Escribe un programa que te diga si una letra es una consonante o una vocal. Crea tu propia **FUNCIÓN**\n"
   ]
  },
  {
   "cell_type": "code",
   "execution_count": 69,
   "id": "c58bf610-92de-4a5a-a00d-652279ea33dd",
   "metadata": {},
   "outputs": [
    {
     "name": "stdout",
     "output_type": "stream",
     "text": [
      "f es una consonante.\n"
     ]
    }
   ],
   "source": [
    "def vocal_o_cons(n):\n",
    "    if n.upper() in \"AEIOU\":  # Convierte n a mayúsculas para comparar\n",
    "        print(f\"{n} es una vocal.\")\n",
    "    else:\n",
    "        print(f\"{n} es una consonante.\")\n",
    "\n",
    "vocal_o_cons(\"f\")\n",
    "\n"
   ]
  },
  {
   "cell_type": "markdown",
   "id": "52065a6c-3d4c-44c0-a10b-958506c481b3",
   "metadata": {},
   "source": [
    "#### Ejercicio 3. \n",
    "\n",
    "Escribe un programa que calcule la edad humana de un perro.\n",
    "Tienes que pedirle al usuario la edad del perro en años.\n",
    "Si el usuario introduce un número negativo, imprime que la cifra facilitada no tiene sentido. Si el perro tiene un año, son 14 años humanos. Si tiene 2 años, son 22 años humanos.\n",
    "A partir de los 2 años, el cálculo es el siguiente: a la edad del perro se le restan 2 años, el resultado se multiplica por 5 y, finalmente, se le suma 22.\n",
    "Usa una función sin argumentos de entrada ni de salida (muestra toda la información con print())"
   ]
  },
  {
   "cell_type": "code",
   "execution_count": 72,
   "id": "9c59c801-1fe1-4a6d-a000-f85ca738ed00",
   "metadata": {},
   "outputs": [
    {
     "name": "stdout",
     "output_type": "stream",
     "text": [
      "5 años perrunos equivalen a 37 años humanos\n"
     ]
    }
   ],
   "source": [
    "edad_perro = int(input(\"Introduce la edad del perro en años: \"))\n",
    "edad_humana = 0\n",
    "\n",
    "if edad_perro <0: #Si el usuario introduce un número negativo\n",
    "    print(\"la cifra facilitada no tiene sentido\")\n",
    "    \n",
    "elif edad_perro == 1: #Si el perro tiene un año, son 14 años humanos\n",
    "    edad_humana = 14\n",
    "\n",
    "elif edad_perro == 2: #Si tiene 2 años, son 22 años humanos.\n",
    "    edad_humana = 22\n",
    "\n",
    "elif edad_perro >2: #A partir de los 2 años...\n",
    "    edad_humana = ((edad_perro - 2)*5)+22\n",
    "print(f\"{edad_perro} años perrunos equivalen a {edad_humana} años humanos\")"
   ]
  },
  {
   "cell_type": "markdown",
   "id": "2991309f-4208-431a-900c-d9bc734bb936",
   "metadata": {},
   "source": [
    "#### Ejercicio 4. \n",
    "\n",
    "Escribe un programa que te diga si una frase es un pangrama. Un pangrama es una frase que contiene todas las letras del alfabeto.\n",
    "Puedes tener espacios en blanco, pero NO  tendrás signos de puntuación, a excepción de las tildes.\n",
    "\n",
    "Ejemplo de pangrama:\n",
    "\n",
    "Extraño pan de col y kiwi se quemó bajo fugaz vaho "
   ]
  },
  {
   "cell_type": "code",
   "execution_count": null,
   "id": "9a349c1e-15ab-4253-97f8-2a07a263791d",
   "metadata": {},
   "outputs": [
    {
     "name": "stdout",
     "output_type": "stream",
     "text": [
      "'Extraño pan de col y kiwi se quemó bajo fugaz vaho' es un pangrama.\n",
      "'Me e cagao con el ejercicio de hundir la flota' no es un pangrama.\n"
     ]
    }
   ],
   "source": [
    "def pangrama(n):\n",
    "\n",
    "    alfabeto = set(\"ABCDEFGHIJKLMNÑOPQRSTUVWXYZ\")\n",
    "    letras_en_n = set()\n",
    "\n",
    "    for letra in n.upper():\n",
    "        if letra in alfabeto:  # Solo letras que están en el alfabeto\n",
    "            letras_en_n.add(letra)\n",
    "\n",
    "    if alfabeto <= letras_en_n:\n",
    "        print(f\"'{n}' es un pangrama.\")\n",
    "    else:\n",
    "        print(f\"'{n}' no es un pangrama.\")\n",
    "\n",
    "pangrama(\"Extraño pan de col y kiwi se quemó bajo fugaz vaho\")\n",
    "pangrama(\"Me e cagao con el ejercicio de hundir la flota\")\n"
   ]
  },
  {
   "cell_type": "markdown",
   "id": "3dbb76e0-79b2-45e8-9034-58ee9cbd82bb",
   "metadata": {},
   "source": [
    "#### Ejercicio 5. \n",
    "\n",
    "Escribe un programa que use diccionarios para traducir palabras entre varios idiomas.\n",
    "Deberás pedirle al usuario una palabra por teclado, ver si está en tu diccionario. En caso de que esté, deberás mostrar la traducción de esa palabra.\n",
    "\n",
    "Ejemplo de diccionario:\n",
    "\n",
    "```python\n",
    "{\"file\": \"Fichier\", \"new\": \"Nouveau\", \"open\": \"Ouvrir\", \"save\": \"Enregistrer\", \"save as\": \"Enregistrer sous\", \"print preview\": \"Apercu avant impressioner\", \"print\": \"Imprimer\", \"close\": \"Fermer\", \"exit\": \"Quitter\"}\n"
   ]
  },
  {
   "cell_type": "code",
   "execution_count": null,
   "id": "88236123-e8ac-45da-87d0-134a88a690c1",
   "metadata": {},
   "outputs": [
    {
     "name": "stdout",
     "output_type": "stream",
     "text": [
      "La palabra 'huevo' no está en el diccionario.\n"
     ]
    }
   ],
   "source": [
    "traductor = {\n",
    "    \"file\": \"Fichier\",\n",
    "    \"new\": \"Nouveau\",\n",
    "    \"open\": \"Ouvrir\",\n",
    "    \"save\": \"Enregistrer\",\n",
    "    \"save as\": \"Enregistrer sous\",\n",
    "    \"print preview\": \"Aperçu avant impression\",\n",
    "    \"print\": \"Imprimer\",\n",
    "    \"close\": \"Fermer\",\n",
    "    \"exit\": \"Quitter\"\n",
    "}\n",
    "\n",
    "palabra = input(\"Introduce una palabra en Inglés para traducir al Francés: \").lower()\n",
    "\n",
    "# verificar si está\n",
    "if palabra in traductor:\n",
    "    print(f\"La traducción de '{palabra}' al francés es: {traductor[palabra]}\")\n",
    "else:\n",
    "    print(f\"La palabra '{palabra}' no está en el diccionario.\")\n"
   ]
  },
  {
   "cell_type": "markdown",
   "id": "61967ca4-7e06-44b3-ad7b-adbc0e71671a",
   "metadata": {},
   "source": [
    "#### Ejercicio 6. (Bonus).\n",
    "\n",
    "Usando `OOP` modela un theremin (es un instrumento musical que se toca modificando el campo electromagnético, por si tenías curiosidad).\n",
    "Tendrá de atributos la marca, el modelo, el peso, la potencia y la batería.\n",
    "\n",
    "Todos los instrumentos se crean con un peso predeterminado de 500, una potencia de 50 y una batería de 200.\n",
    "\n",
    "Cuando se recarga la batería vale 200.\n",
    "\n",
    "Cuando se toca, se muestra por pantalla que está sonando y la batería disminuye 10 (no siendo nunca negativo).\n",
    "Si no hay batería, no puede sonar. Crea un instrumento, tócalo mientras quede batería, cárgalo y no lo vuelvas a tocar.\n"
   ]
  },
  {
   "cell_type": "code",
   "execution_count": null,
   "id": "8082c8cd-03a9-478e-aa72-4ec1306e1bb2",
   "metadata": {},
   "outputs": [
    {
     "name": "stdout",
     "output_type": "stream",
     "text": [
      "El IdeaDeMarcas de NoTengoNi está sonando!\n",
      "Batería restante: 190\n",
      "El IdeaDeMarcas de NoTengoNi está sonando!\n",
      "Batería restante: 180\n",
      "El IdeaDeMarcas de NoTengoNi está sonando!\n",
      "Batería restante: 170\n",
      "El IdeaDeMarcas de NoTengoNi está sonando!\n",
      "Batería restante: 160\n",
      "El IdeaDeMarcas de NoTengoNi está sonando!\n",
      "Batería restante: 150\n",
      "El IdeaDeMarcas de NoTengoNi está sonando!\n",
      "Batería restante: 140\n",
      "El IdeaDeMarcas de NoTengoNi está sonando!\n",
      "Batería restante: 130\n",
      "El IdeaDeMarcas de NoTengoNi está sonando!\n",
      "Batería restante: 120\n",
      "El IdeaDeMarcas de NoTengoNi está sonando!\n",
      "Batería restante: 110\n",
      "El IdeaDeMarcas de NoTengoNi está sonando!\n",
      "Batería restante: 100\n",
      "El IdeaDeMarcas de NoTengoNi está sonando!\n",
      "Batería restante: 90\n",
      "El IdeaDeMarcas de NoTengoNi está sonando!\n",
      "Batería restante: 80\n",
      "El IdeaDeMarcas de NoTengoNi está sonando!\n",
      "Batería restante: 70\n",
      "El IdeaDeMarcas de NoTengoNi está sonando!\n",
      "Batería restante: 60\n",
      "El IdeaDeMarcas de NoTengoNi está sonando!\n",
      "Batería restante: 50\n",
      "El IdeaDeMarcas de NoTengoNi está sonando!\n",
      "Batería restante: 40\n",
      "El IdeaDeMarcas de NoTengoNi está sonando!\n",
      "Batería restante: 30\n",
      "El IdeaDeMarcas de NoTengoNi está sonando!\n",
      "Batería restante: 20\n",
      "El IdeaDeMarcas de NoTengoNi está sonando!\n",
      "Batería restante: 10\n",
      "El IdeaDeMarcas de NoTengoNi está sonando!\n",
      "Batería restante: 0\n",
      "IdeaDeMarcas de NoTengoNi ha sido recargado. Batería al 100%.\n",
      "\n",
      "Ya no lo vuelvo a tocar mas, me voy al lol\n"
     ]
    }
   ],
   "source": [
    "class Theremin:\n",
    "    def __init__(self, marca, modelo):\n",
    "        self.marca = marca\n",
    "        self.modelo = modelo\n",
    "        self.peso = 500  # peso predeterminado\n",
    "        self.potencia = 50  # potencia predeterminada\n",
    "        self.bateria = 200  # batería predeterminada\n",
    "\n",
    "    def tocar(self):\n",
    "        # si hay batería suficiente, toca\n",
    "        if self.bateria >=10:\n",
    "            print(f\"El {self.modelo} de {self.marca} está sonando!\")\n",
    "            self.bateria -= 10\n",
    "            print(f\"Batería restante: {self.bateria}\")\n",
    "        else:\n",
    "            print(f\"{self.modelo} no tiene batería para sonar. ¡Cárgalo!\")\n",
    "\n",
    "    def cargar_bateria(self):\n",
    "        self.bateria = 200\n",
    "        print(f\"{self.modelo} de {self.marca} ha sido recargado. Batería al 100%.\")\n",
    "\n",
    "# Crear uno\n",
    "theremin1 = Theremin(\"NoTengoNi\", \"IdeaDeMarcas\")\n",
    "\n",
    "while theremin1.bateria >=10:\n",
    "    theremin1.tocar()\n",
    "\n",
    "theremin1.cargar_bateria()\n",
    "\n",
    "print(\"\\nYa no lo vuelvo a tocar mas, me voy al lol\")"
   ]
  },
  {
   "cell_type": "markdown",
   "id": "30f773b5-a6da-4446-b36b-722b2ee57730",
   "metadata": {},
   "source": [
    "#### Ejercicio 7. Extra (NO PUNTÚA).\n",
    "Una empresa usa dos listas  para guardar la información de sus empleados. Una lista guarda el nombre del empleado y la otra guarda su salario. Escribe un programa que cree esas dos listas originalmente vacías y que a través de un menú pueda hacer lo siguiente:\n",
    "    \n",
    "Inserta 1 para añadir un nuevo empleado y su salario\n",
    "\n",
    "Inserta 2 para imprimir los nombres y salarios de todos los empleados\n",
    "\n",
    "Inserta 3 para mostrar el número de empleados\n",
    "\n",
    "Inserta 4 para imprimir los nombres de los empleados con sueldos superiores a 400000\n",
    "\n",
    "Inserta 5 para subir un 5% los sueldos por debajo de 10000\n",
    "\n",
    "Inserta 6 para mostrar el total de todos los salarios\n",
    "\n",
    "Inserta 7 para salir del programa"
   ]
  },
  {
   "cell_type": "code",
   "execution_count": null,
   "id": "67858e27-b7f5-4e05-bc50-3fca698ad22a",
   "metadata": {},
   "outputs": [
    {
     "name": "stdout",
     "output_type": "stream",
     "text": [
      "\n",
      "\n",
      "¡Bienvenido!\n",
      "\n",
      "Inserta 1 para añadir un nuevo empleado y su salario\n",
      "Inserta 2 para imprimir los nombres y salarios de todos los empleados\n",
      "Inserta 3 para mostrar el número de empleados\n",
      "Inserta 4 para imprimir los nombres de los empleados con sueldos superiores a 400000\n",
      "Inserta 5 para subir un 5% los sueldos por debajo de 10000\n",
      "Inserta 6 para mostrar el total de todos los salarios\n",
      "Inserta 7 para salir del programa\n",
      "\n",
      "    \n",
      "\n",
      "Suma de todos los sueldos:  10000\n",
      "\n",
      "Cantidad de empleados:  1\n",
      "\n",
      "¡Gracias por usar el programa!\n"
     ]
    }
   ],
   "source": []
  },
  {
   "cell_type": "markdown",
   "id": "e33a0e21-476e-4103-b889-a6b3e76b99f3",
   "metadata": {},
   "source": [
    "\n",
    "####  Ejercicio 8. EXTRA (NO PUNTÚA).\n",
    "\n",
    "Escribe un programa que __USE RECURSIVIDAD__ para decidir cuál es la película de Pixar favorita de un usuario.\n",
    "El programa preguntará al usuario cuál de 2 películas es su favorita, y con esa favorita se le volverá a preguntar entre esa y otra película cuál es su favorita...y así hasta que el usuario haya decidido de entre todas cuál es su favorita.\n",
    "\n",
    "Pista: si no quieres cambiar una lista, usa copy() y tendrás una copia que es otro objeto\n",
    "\n"
   ]
  },
  {
   "cell_type": "code",
   "execution_count": null,
   "id": "c9936fd4-6d29-4535-9f34-a6f289d18d8b",
   "metadata": {},
   "outputs": [
    {
     "name": "stdout",
     "output_type": "stream",
     "text": [
      "Si prefieres Toy Story marca 1, si prefieres Soul marca 2: 1\n",
      "Prefieres Toy Story\n",
      "Si prefieres Toy Story marca 1, si prefieres Up marca 2: 2\n",
      "Prefieres Up\n",
      "Si prefieres Up marca 1, si prefieres Coco marca 2: 2\n",
      "Prefieres Coco\n",
      "Si prefieres Coco marca 1, si prefieres Luca marca 2: 1\n",
      "Prefieres Coco\n",
      "Si prefieres Coco marca 1, si prefieres Monsters marca 2: 2\n",
      "Prefieres Monsters\n",
      "Si prefieres Monsters marca 1, si prefieres Inside Out marca 2: 1\n",
      "Prefieres Monsters\n",
      "Si prefieres Monsters marca 1, si prefieres WallE marca 2: 2\n",
      "Prefieres WallE\n",
      "Si prefieres WallE marca 1, si prefieres Buscando a Nemo marca 2: 2\n",
      "Prefieres Buscando a Nemo\n",
      "Si prefieres Buscando a Nemo marca 1, si prefieres Los increíbles marca 2: 1\n",
      "Prefieres Buscando a Nemo\n",
      "\n",
      "Prefieres finalmente Buscando a Nemo\n"
     ]
    }
   ],
   "source": []
  },
  {
   "cell_type": "code",
   "execution_count": null,
   "id": "10a7b881",
   "metadata": {},
   "outputs": [],
   "source": [
    "# FIN DEL EXAMEN"
   ]
  }
 ],
 "metadata": {
  "kernelspec": {
   "display_name": "Python 3",
   "language": "python",
   "name": "python3"
  },
  "language_info": {
   "codemirror_mode": {
    "name": "ipython",
    "version": 3
   },
   "file_extension": ".py",
   "mimetype": "text/x-python",
   "name": "python",
   "nbconvert_exporter": "python",
   "pygments_lexer": "ipython3",
   "version": "3.12.4"
  }
 },
 "nbformat": 4,
 "nbformat_minor": 5
}
