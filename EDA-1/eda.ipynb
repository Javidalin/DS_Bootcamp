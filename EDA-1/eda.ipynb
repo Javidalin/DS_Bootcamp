{
 "cells": [
  {
   "cell_type": "code",
   "execution_count": 2,
   "metadata": {},
   "outputs": [],
   "source": [
    "import numpy as np\n",
    "import matplotlib.pyplot as plt\n",
    "import pandas as pd"
   ]
  },
  {
   "cell_type": "code",
   "execution_count": 41,
   "metadata": {},
   "outputs": [
    {
     "data": {
      "text/plain": [
       "ban_1\n",
       "Leblanc         874\n",
       "Kalista         742\n",
       "Zac             644\n",
       "Nidalee         642\n",
       "Ryze            553\n",
       "               ... \n",
       "Heimerdinger      1\n",
       "Velkoz            1\n",
       "Nocturne          1\n",
       "Akali             1\n",
       "Aatrox            1\n",
       "Name: count, Length: 127, dtype: int64"
      ]
     },
     "execution_count": 41,
     "metadata": {},
     "output_type": "execute_result"
    }
   ],
   "source": [
    "df_lol = pd.read_csv(\"./archive/LeagueofLegends.csv\")\n",
    "df_bans = pd.read_csv(\"./archive/bans.csv\")\n",
    "df_bans = df_bans.drop(columns=[\"Address\"])\n",
    "df_bans[\"ban_1\"].value_counts()"
   ]
  }
 ],
 "metadata": {
  "kernelspec": {
   "display_name": "Python 3",
   "language": "python",
   "name": "python3"
  },
  "language_info": {
   "codemirror_mode": {
    "name": "ipython",
    "version": 3
   },
   "file_extension": ".py",
   "mimetype": "text/x-python",
   "name": "python",
   "nbconvert_exporter": "python",
   "pygments_lexer": "ipython3",
   "version": "3.12.4"
  }
 },
 "nbformat": 4,
 "nbformat_minor": 2
}
